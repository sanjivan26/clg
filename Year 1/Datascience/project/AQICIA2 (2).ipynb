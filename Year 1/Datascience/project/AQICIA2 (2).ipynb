{
 "cells": [
  {
   "cell_type": "code",
   "execution_count": 1,
   "id": "090ee1e3",
   "metadata": {},
   "outputs": [
    {
     "name": "stdout",
     "output_type": "stream",
     "text": [
      "Shape of the dataset: (16695, 14)\n",
      "\n",
      "Columns in the dataset: Index(['Country', 'City', 'AQI Value', 'AQI Category', 'CO AQI Value',\n",
      "       'CO AQI Category', 'Ozone AQI Value', 'Ozone AQI Category',\n",
      "       'NO2 AQI Value', 'NO2 AQI Category', 'PM2.5 AQI Value',\n",
      "       'PM2.5 AQI Category', 'lat', 'lng'],\n",
      "      dtype='object')\n",
      "\n",
      "Data types of columns:\n",
      " Country                object\n",
      "City                   object\n",
      "AQI Value               int64\n",
      "AQI Category           object\n",
      "CO AQI Value            int64\n",
      "CO AQI Category        object\n",
      "Ozone AQI Value         int64\n",
      "Ozone AQI Category     object\n",
      "NO2 AQI Value           int64\n",
      "NO2 AQI Category       object\n",
      "PM2.5 AQI Value         int64\n",
      "PM2.5 AQI Category     object\n",
      "lat                   float64\n",
      "lng                   float64\n",
      "dtype: object\n",
      "\n",
      "First few rows of the dataset:\n",
      "               Country              City  AQI Value AQI Category  CO AQI Value  \\\n",
      "0  Russian Federation        Praskoveya         51     Moderate             1   \n",
      "1              Brazil  Presidente Dutra         41         Good             1   \n",
      "2              Brazil  Presidente Dutra         41         Good             1   \n",
      "3               Italy   Priolo Gargallo         66     Moderate             1   \n",
      "4              Poland         Przasnysz         34         Good             1   \n",
      "\n",
      "  CO AQI Category  Ozone AQI Value Ozone AQI Category  NO2 AQI Value  \\\n",
      "0            Good               36               Good              0   \n",
      "1            Good                5               Good              1   \n",
      "2            Good                5               Good              1   \n",
      "3            Good               39               Good              2   \n",
      "4            Good               34               Good              0   \n",
      "\n",
      "  NO2 AQI Category  PM2.5 AQI Value PM2.5 AQI Category      lat      lng  \n",
      "0             Good               51           Moderate  44.7444  44.2031  \n",
      "1             Good               41               Good  -5.2900 -44.4900  \n",
      "2             Good               41               Good -11.2958 -41.9869  \n",
      "3             Good               66           Moderate  37.1667  15.1833  \n",
      "4             Good               20               Good  53.0167  20.8833  \n",
      "\n",
      "Summary statistics of numerical columns:\n",
      "           AQI Value  CO AQI Value  Ozone AQI Value  NO2 AQI Value  \\\n",
      "count  16695.000000  16695.000000     16695.000000   16695.000000   \n",
      "mean      62.998682      1.342138        31.767355       3.819647   \n",
      "std       43.091971      2.371379        22.839343       5.880677   \n",
      "min        7.000000      0.000000         0.000000       0.000000   \n",
      "25%       38.500000      1.000000        20.000000       0.000000   \n",
      "50%       52.000000      1.000000        29.000000       2.000000   \n",
      "75%       69.000000      1.000000        38.000000       5.000000   \n",
      "max      500.000000    133.000000       222.000000      91.000000   \n",
      "\n",
      "       PM2.5 AQI Value           lat           lng  \n",
      "count     16695.000000  16695.000000  16695.000000  \n",
      "mean         59.821324     30.267148     -3.944485  \n",
      "std          43.208298     22.947398     73.037148  \n",
      "min           0.000000    -54.801900   -171.750000  \n",
      "25%          34.000000     16.515450    -75.180000  \n",
      "50%          52.000000     38.815800      5.643100  \n",
      "75%          69.000000     46.683300     36.275000  \n",
      "max         500.000000     70.767000    178.017800  \n",
      "\n",
      "Missing values:\n",
      " Country               302\n",
      "City                    0\n",
      "AQI Value               0\n",
      "AQI Category            0\n",
      "CO AQI Value            0\n",
      "CO AQI Category         0\n",
      "Ozone AQI Value         0\n",
      "Ozone AQI Category      0\n",
      "NO2 AQI Value           0\n",
      "NO2 AQI Category        0\n",
      "PM2.5 AQI Value         0\n",
      "PM2.5 AQI Category      0\n",
      "lat                     0\n",
      "lng                     0\n",
      "dtype: int64\n"
     ]
    }
   ],
   "source": [
    "import pandas as pd\n",
    "\n",
    "data = pd.read_csv('AQI.csv')\n",
    "\n",
    "print(\"Shape of the dataset:\", data.shape)\n",
    "print(\"\\nColumns in the dataset:\", data.columns)\n",
    "print(\"\\nData types of columns:\\n\", data.dtypes)\n",
    "\n",
    "print(\"\\nFirst few rows of the dataset:\\n\", data.head())\n",
    "\n",
    "print(\"\\nSummary statistics of numerical columns:\\n\", data.describe())\n",
    "\n",
    "print(\"\\nMissing values:\\n\", data.isnull().sum())\n"
   ]
  },
  {
   "cell_type": "code",
   "execution_count": 2,
   "id": "fba3902e",
   "metadata": {},
   "outputs": [
    {
     "name": "stdout",
     "output_type": "stream",
     "text": [
      "Accuracy: 93.90057944495273\n"
     ]
    }
   ],
   "source": [
    "import pandas as pd\n",
    "from sklearn.model_selection import train_test_split\n",
    "from sklearn.linear_model import LogisticRegression\n",
    "from sklearn.metrics import accuracy_score\n",
    "from sklearn.preprocessing import LabelEncoder\n",
    "from sklearn.pipeline import Pipeline\n",
    "from sklearn.preprocessing import StandardScaler\n",
    "\n",
    "data = pd.read_csv('AQI.csv')\n",
    "\n",
    "\n",
    "data = data.dropna()\n",
    "\n",
    "encoder = LabelEncoder()\n",
    "data['Country'] = encoder.fit_transform(data['Country'])\n",
    "data['City'] = encoder.fit_transform(data['City'])\n",
    "\n",
    "\n",
    "features = ['CO AQI Value', 'Ozone AQI Value', 'NO2 AQI Value', 'PM2.5 AQI Value', 'lat', 'lng']\n",
    "X = data[features]\n",
    "y = data['AQI Category']\n",
    "\n",
    "\n",
    "X_train, X_test, y_train, y_test = train_test_split(X, y, test_size=0.2, random_state=42)\n",
    "\n",
    "\n",
    "pipeline = Pipeline([\n",
    "    ('scaler', StandardScaler()), \n",
    "    ('logistic_regression', LogisticRegression())  \n",
    "])\n",
    "\n",
    "\n",
    "pipeline.fit(X_train, y_train)\n",
    "\n",
    "y_pred = pipeline.predict(X_test)\n",
    "\n",
    "accuracy = accuracy_score(y_test, y_pred)\n",
    "print(\"Accuracy:\", accuracy * 100)"
   ]
  },
  {
   "cell_type": "code",
   "execution_count": null,
   "id": "97359da6",
   "metadata": {},
   "outputs": [],
   "source": [
    "\n"
   ]
  },
  {
   "cell_type": "code",
   "execution_count": 3,
   "id": "0a930354",
   "metadata": {},
   "outputs": [
    {
     "name": "stdout",
     "output_type": "stream",
     "text": [
      "Pipeline saved as: aqi_model.pkl\n"
     ]
    }
   ],
   "source": [
    "import joblib\n",
    "\n",
    "filename = 'aqi_model.pkl'\n",
    "\n",
    "joblib.dump(pipeline, filename)\n",
    "\n",
    "print(\"Pipeline saved as:\", filename)\n",
    "\n"
   ]
  },
  {
   "cell_type": "code",
   "execution_count": null,
   "id": "24f9a0f8",
   "metadata": {},
   "outputs": [],
   "source": []
  }
 ],
 "metadata": {
  "kernelspec": {
   "display_name": "Python 3 (ipykernel)",
   "language": "python",
   "name": "python3"
  },
  "language_info": {
   "codemirror_mode": {
    "name": "ipython",
    "version": 3
   },
   "file_extension": ".py",
   "mimetype": "text/x-python",
   "name": "python",
   "nbconvert_exporter": "python",
   "pygments_lexer": "ipython3",
   "version": "3.11.5"
  }
 },
 "nbformat": 4,
 "nbformat_minor": 5
}
